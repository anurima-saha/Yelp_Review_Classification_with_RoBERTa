{
  "nbformat": 4,
  "nbformat_minor": 0,
  "metadata": {
    "colab": {
      "provenance": []
    },
    "kernelspec": {
      "name": "python3",
      "display_name": "Python 3"
    },
    "language_info": {
      "name": "python"
    }
  },
  "cells": [
    {
      "cell_type": "markdown",
      "source": [
        "# WEBSCRAPING"
      ],
      "metadata": {
        "id": "Vs6zA3zjd8qG"
      }
    },
    {
      "cell_type": "code",
      "execution_count": null,
      "metadata": {
        "id": "g8yG2PbJ08X0"
      },
      "outputs": [],
      "source": [
        "import requests\n",
        "from bs4 import BeautifulSoup # Part of the bs4 library, used to parse and extract data from HTML pages\n",
        "import urllib.request # Used to send requests to web pages and retrieve their HTML content\n",
        "import re # The regular expressions (regex) library, used to find and replace patterns in text\n",
        "import pandas as pd\n",
        "import time"
      ]
    },
    {
      "cell_type": "markdown",
      "source": [
        "#### Checking if website can be scraped"
      ],
      "metadata": {
        "id": "fyGxNv4BFGEn"
      }
    },
    {
      "cell_type": "code",
      "source": [
        "headers = {\n",
        "    'User-Agent': 'Mozilla/5.0 (Windows NT 10.0; Win64; x64) AppleWebKit/537.36 (KHTML, like Gecko) Chrome/91.0.4472.124 Safari/537.36',\n",
        "    'Referer': 'https://www.yelp.com'\n",
        "}"
      ],
      "metadata": {
        "id": "ASw2yeAOrUHV"
      },
      "execution_count": null,
      "outputs": []
    },
    {
      "cell_type": "markdown",
      "source": [
        "#### Scraping 100 Pages at a time"
      ],
      "metadata": {
        "id": "xtaIHfkwORcX"
      }
    },
    {
      "cell_type": "code",
      "source": [
        "############ Getting URL of all pages that can be scraped for reviews ###############\n",
        "base_url = 'https://www.yelp.com/biz/din-tai-fung-san-diego-3?osq=Din+Tai+Fung'\n",
        "result = requests.get(base_url)\n",
        "soup = BeautifulSoup(result.text,'html.parser')"
      ],
      "metadata": {
        "id": "3UieyAOUbw5l"
      },
      "execution_count": null,
      "outputs": []
    },
    {
      "cell_type": "code",
      "source": [
        "title = soup.title.text\n",
        "det = title.split(\"-\")\n",
        "print(f\"Resturant Name: {det[0]}\")\n",
        "print(f\"Resturant Location: {det[3]}\")\n",
        "print(f\"Resturant Style: {det[4]}\")\n",
        "print(f\"Review Details: {det[2]}\")\n",
        "print(f\"Last Updated: {det[1]}\")"
      ],
      "metadata": {
        "colab": {
          "base_uri": "https://localhost:8080/"
        },
        "id": "ZRu9Hv-4nc8B",
        "outputId": "718a98d0-092f-49c2-97c4-f0875b148925"
      },
      "execution_count": null,
      "outputs": [
        {
          "output_type": "stream",
          "name": "stdout",
          "text": [
            "Resturant Name: DIN TAI FUNG \n",
            "Resturant Location:  4301 La Jolla Village Dr, San Diego, California \n",
            "Resturant Style:  Taiwanese \n",
            "Review Details:  12164 Photos & 5633 Reviews \n",
            "Last Updated:  Updated December 2024 \n"
          ]
        }
      ]
    },
    {
      "cell_type": "code",
      "source": [
        "num_reviews = soup.find(\"span\", class_ = \"y-css-yrt0i5\").text\n",
        "num = int(re.findall(r'\\d+', num_reviews)[0])\n",
        "print(f\"There are {num} reviews for {det[0]}\")"
      ],
      "metadata": {
        "colab": {
          "base_uri": "https://localhost:8080/"
        },
        "id": "5tsQB0S-nhTN",
        "outputId": "159dec8e-1df6-4ab7-cf68-6bb9eff60597"
      },
      "execution_count": null,
      "outputs": [
        {
          "output_type": "stream",
          "name": "stdout",
          "text": [
            "There are 5633 reviews for DIN TAI FUNG \n"
          ]
        }
      ]
    },
    {
      "cell_type": "code",
      "source": [
        "parent_div = soup.find('div', class_=\"y-css-maehnx\")  # Replace with the actual class name\n",
        "\n",
        "# Extract all text from the parent div and its child divs\n",
        "if parent_div:\n",
        "    all_text = parent_div.get_text(separator='\\n', strip=True)\n",
        "else:\n",
        "    print(\"Parent div not found.\")\n",
        "print(all_text)"
      ],
      "metadata": {
        "colab": {
          "base_uri": "https://localhost:8080/"
        },
        "id": "xxulNplknlwc",
        "outputId": "00364e8a-056c-4898-cb2c-67ee15d0cf6d"
      },
      "execution_count": null,
      "outputs": [
        {
          "output_type": "stream",
          "name": "stdout",
          "text": [
            "$8.50\n",
            "Cucumber Salad\n",
            "343 Photos\n",
            "360 Reviews\n",
            "$20.00\n",
            "Braised Beef Noodle Soup\n",
            "203 Photos\n",
            "316 Reviews\n",
            "$16.00\n",
            "Chicken Wonton Soup\n",
            "93 Photos\n",
            "142 Reviews\n",
            "$18.50\n",
            "Shrimp Fried Rice\n",
            "142 Photos\n",
            "168 Reviews\n",
            "$16.00\n",
            "String Beans with Garlic\n",
            "244 Photos\n",
            "123 Reviews\n",
            "$15.50\n",
            "Sweet & Sour Pork Baby Back Ribs\n",
            "185 Photos\n",
            "132 Reviews\n",
            "$17.00\n",
            "Chicken Dumplings\n",
            "123 Photos\n",
            "125 Reviews\n",
            "$20.00\n",
            "Pork Chop Fried Rice\n",
            "118 Photos\n",
            "107 Reviews\n",
            "$17.50\n",
            "Kurobuta Pork Xiao Long Bao\n",
            "422 Photos\n",
            "65 Reviews\n",
            "$13.50\n",
            "Shrimp & Kurobuta Pork Pot Stickers\n",
            "112 Photos\n",
            "85 Reviews\n",
            "$9.50\n",
            "Kurobuta Pork Buns\n",
            "94 Photos\n",
            "91 Reviews\n",
            "$17.00\n",
            "Chicken Fried Rice\n",
            "52 Photos\n",
            "78 Reviews\n",
            "$12.00\n",
            "Shrimp & Kurobuta Pork Shao Mai\n",
            "122 Photos\n",
            "66 Reviews\n",
            "$10.00\n",
            "Chocolate Buns\n",
            "43 Photos\n",
            "60 Reviews\n"
          ]
        }
      ]
    },
    {
      "cell_type": "code",
      "source": [
        "pagination_div = soup.find('div', class_='pagination__09f24__VRjN4 y-css-1l7sbyz')\n",
        "if pagination_div:\n",
        "    # Extract the total number of pages from the pagination information\n",
        "    num_pages = int(pagination_div.text.split()[-1])\n",
        "    print(\"Total number of pages:\", num_pages)\n",
        "else:\n",
        "    print(\"Pagination information not found. Unable to determine the number of pages.\")"
      ],
      "metadata": {
        "colab": {
          "base_uri": "https://localhost:8080/"
        },
        "id": "ancXkA2DnvPS",
        "outputId": "eb108244-3e70-4bd9-de23-82df48fd862e"
      },
      "execution_count": null,
      "outputs": [
        {
          "output_type": "stream",
          "name": "stdout",
          "text": [
            "Total number of pages: 562\n"
          ]
        }
      ]
    },
    {
      "cell_type": "code",
      "source": [
        "url = []\n",
        "cnt=0\n",
        "for i in range(0,num_pages):\n",
        "  url.append(base_url + '&start=' + str(cnt))\n",
        "  cnt += 10\n",
        "\n",
        "url[:10]\n"
      ],
      "metadata": {
        "colab": {
          "base_uri": "https://localhost:8080/"
        },
        "id": "NQ8J9mbbnvSk",
        "outputId": "ac8a4144-bcf2-4432-edcb-efd9fbaadc70"
      },
      "execution_count": null,
      "outputs": [
        {
          "output_type": "execute_result",
          "data": {
            "text/plain": [
              "['https://www.yelp.com/biz/din-tai-fung-san-diego-3?osq=Din+Tai+Fung&start=0',\n",
              " 'https://www.yelp.com/biz/din-tai-fung-san-diego-3?osq=Din+Tai+Fung&start=10',\n",
              " 'https://www.yelp.com/biz/din-tai-fung-san-diego-3?osq=Din+Tai+Fung&start=20',\n",
              " 'https://www.yelp.com/biz/din-tai-fung-san-diego-3?osq=Din+Tai+Fung&start=30',\n",
              " 'https://www.yelp.com/biz/din-tai-fung-san-diego-3?osq=Din+Tai+Fung&start=40',\n",
              " 'https://www.yelp.com/biz/din-tai-fung-san-diego-3?osq=Din+Tai+Fung&start=50',\n",
              " 'https://www.yelp.com/biz/din-tai-fung-san-diego-3?osq=Din+Tai+Fung&start=60',\n",
              " 'https://www.yelp.com/biz/din-tai-fung-san-diego-3?osq=Din+Tai+Fung&start=70',\n",
              " 'https://www.yelp.com/biz/din-tai-fung-san-diego-3?osq=Din+Tai+Fung&start=80',\n",
              " 'https://www.yelp.com/biz/din-tai-fung-san-diego-3?osq=Din+Tai+Fung&start=90']"
            ]
          },
          "metadata": {},
          "execution_count": 11
        }
      ]
    },
    {
      "cell_type": "markdown",
      "source": [
        "#### Scraping reviews in pages"
      ],
      "metadata": {
        "id": "Uv7p5y9TLKy_"
      }
    },
    {
      "cell_type": "code",
      "source": [
        "def scrape_reviews (url):\n",
        "  print(url)\n",
        "  result = requests.get(url)\n",
        "  soup = BeautifulSoup(result.text,'html.parser')\n",
        "  ############# Getting comments ##############\n",
        "  reviews = soup.find_all('p', class_=[\"comment__09f24__D0cxf y-css-1wfz87z\",\"comment__09f24__D0cxf truncated__09f24__IiW9r y-css-1wfz87z\"])\n",
        "  rev = []\n",
        "  if reviews:\n",
        "    for review in reviews:\n",
        "        rev.append(review.text)\n",
        "  #print(rev)\n",
        "\n",
        "  ########### Getting dates for respective review ##############\n",
        "  date_ext = soup.find_all('div', class_='y-css-scqtta')\n",
        "  #print(len(rating_div))\n",
        "\n",
        "  date = []\n",
        "  if date_ext:\n",
        "    for dt in date_ext:\n",
        "        date.append(dt.text)\n",
        "  #print(len(date))\n",
        "\n",
        "  ########### Getting star ratings for respective review ##############\n",
        "  rating_div = soup.find_all('div', class_='y-css-dnttlc')\n",
        "  #print(len(rating_div))\n",
        "\n",
        "  rt = []\n",
        "  if rating_div:\n",
        "    for rte in rating_div:\n",
        "        #rr = rte.find('div', {\"aria-label\": re.compile('star rating')})[\"aria-label\"].split()[0]\n",
        "        rt.append(rte.get('aria-label'))\n",
        "  #print(len(rt))\n",
        "  rt=rt[:len(rev)]\n",
        "\n",
        "  df = pd.DataFrame({'Date': date,'Review': rev, 'Rating': rt})\n",
        "  #print(df.head(10))\n",
        "  return df"
      ],
      "metadata": {
        "id": "Sk1I1O61wRHj"
      },
      "execution_count": null,
      "outputs": []
    },
    {
      "cell_type": "markdown",
      "source": [
        "#### Scraping Page 1"
      ],
      "metadata": {
        "id": "wQv-T3nhSDxn"
      }
    },
    {
      "cell_type": "code",
      "source": [
        "df = scrape_reviews(base_url)\n",
        "df.head()"
      ],
      "metadata": {
        "colab": {
          "base_uri": "https://localhost:8080/",
          "height": 223
        },
        "id": "0Yob9IV4maaj",
        "outputId": "c388a571-8349-4b01-841e-f9437b7208a5"
      },
      "execution_count": null,
      "outputs": [
        {
          "output_type": "stream",
          "name": "stdout",
          "text": [
            "https://www.yelp.com/biz/din-tai-fung-san-diego-3?osq=Din+Tai+Fung\n"
          ]
        },
        {
          "output_type": "execute_result",
          "data": {
            "text/plain": [
              "           Date                                             Review  \\\n",
              "0  Oct 24, 2024  Dine in  |  Dinner  |  $100+Definitely recomme...   \n",
              "1  Nov 18, 2024  The service is amazing and the food is so good...   \n",
              "2  Oct 26, 2024  This is first time for me to try this place. I...   \n",
              "3   Dec 9, 2024  What is there to say? Amazing Taiwanese food. ...   \n",
              "4   Dec 6, 2024  As someone who's been to the original Din Tai ...   \n",
              "\n",
              "          Rating  \n",
              "0  5 star rating  \n",
              "1  5 star rating  \n",
              "2  5 star rating  \n",
              "3  5 star rating  \n",
              "4  5 star rating  "
            ],
            "text/html": [
              "\n",
              "  <div id=\"df-e021f9ee-7629-4453-af44-6cfa6fcc1de2\" class=\"colab-df-container\">\n",
              "    <div>\n",
              "<style scoped>\n",
              "    .dataframe tbody tr th:only-of-type {\n",
              "        vertical-align: middle;\n",
              "    }\n",
              "\n",
              "    .dataframe tbody tr th {\n",
              "        vertical-align: top;\n",
              "    }\n",
              "\n",
              "    .dataframe thead th {\n",
              "        text-align: right;\n",
              "    }\n",
              "</style>\n",
              "<table border=\"1\" class=\"dataframe\">\n",
              "  <thead>\n",
              "    <tr style=\"text-align: right;\">\n",
              "      <th></th>\n",
              "      <th>Date</th>\n",
              "      <th>Review</th>\n",
              "      <th>Rating</th>\n",
              "    </tr>\n",
              "  </thead>\n",
              "  <tbody>\n",
              "    <tr>\n",
              "      <th>0</th>\n",
              "      <td>Oct 24, 2024</td>\n",
              "      <td>Dine in  |  Dinner  |  $100+Definitely recomme...</td>\n",
              "      <td>5 star rating</td>\n",
              "    </tr>\n",
              "    <tr>\n",
              "      <th>1</th>\n",
              "      <td>Nov 18, 2024</td>\n",
              "      <td>The service is amazing and the food is so good...</td>\n",
              "      <td>5 star rating</td>\n",
              "    </tr>\n",
              "    <tr>\n",
              "      <th>2</th>\n",
              "      <td>Oct 26, 2024</td>\n",
              "      <td>This is first time for me to try this place. I...</td>\n",
              "      <td>5 star rating</td>\n",
              "    </tr>\n",
              "    <tr>\n",
              "      <th>3</th>\n",
              "      <td>Dec 9, 2024</td>\n",
              "      <td>What is there to say? Amazing Taiwanese food. ...</td>\n",
              "      <td>5 star rating</td>\n",
              "    </tr>\n",
              "    <tr>\n",
              "      <th>4</th>\n",
              "      <td>Dec 6, 2024</td>\n",
              "      <td>As someone who's been to the original Din Tai ...</td>\n",
              "      <td>5 star rating</td>\n",
              "    </tr>\n",
              "  </tbody>\n",
              "</table>\n",
              "</div>\n",
              "    <div class=\"colab-df-buttons\">\n",
              "\n",
              "  <div class=\"colab-df-container\">\n",
              "    <button class=\"colab-df-convert\" onclick=\"convertToInteractive('df-e021f9ee-7629-4453-af44-6cfa6fcc1de2')\"\n",
              "            title=\"Convert this dataframe to an interactive table.\"\n",
              "            style=\"display:none;\">\n",
              "\n",
              "  <svg xmlns=\"http://www.w3.org/2000/svg\" height=\"24px\" viewBox=\"0 -960 960 960\">\n",
              "    <path d=\"M120-120v-720h720v720H120Zm60-500h600v-160H180v160Zm220 220h160v-160H400v160Zm0 220h160v-160H400v160ZM180-400h160v-160H180v160Zm440 0h160v-160H620v160ZM180-180h160v-160H180v160Zm440 0h160v-160H620v160Z\"/>\n",
              "  </svg>\n",
              "    </button>\n",
              "\n",
              "  <style>\n",
              "    .colab-df-container {\n",
              "      display:flex;\n",
              "      gap: 12px;\n",
              "    }\n",
              "\n",
              "    .colab-df-convert {\n",
              "      background-color: #E8F0FE;\n",
              "      border: none;\n",
              "      border-radius: 50%;\n",
              "      cursor: pointer;\n",
              "      display: none;\n",
              "      fill: #1967D2;\n",
              "      height: 32px;\n",
              "      padding: 0 0 0 0;\n",
              "      width: 32px;\n",
              "    }\n",
              "\n",
              "    .colab-df-convert:hover {\n",
              "      background-color: #E2EBFA;\n",
              "      box-shadow: 0px 1px 2px rgba(60, 64, 67, 0.3), 0px 1px 3px 1px rgba(60, 64, 67, 0.15);\n",
              "      fill: #174EA6;\n",
              "    }\n",
              "\n",
              "    .colab-df-buttons div {\n",
              "      margin-bottom: 4px;\n",
              "    }\n",
              "\n",
              "    [theme=dark] .colab-df-convert {\n",
              "      background-color: #3B4455;\n",
              "      fill: #D2E3FC;\n",
              "    }\n",
              "\n",
              "    [theme=dark] .colab-df-convert:hover {\n",
              "      background-color: #434B5C;\n",
              "      box-shadow: 0px 1px 3px 1px rgba(0, 0, 0, 0.15);\n",
              "      filter: drop-shadow(0px 1px 2px rgba(0, 0, 0, 0.3));\n",
              "      fill: #FFFFFF;\n",
              "    }\n",
              "  </style>\n",
              "\n",
              "    <script>\n",
              "      const buttonEl =\n",
              "        document.querySelector('#df-e021f9ee-7629-4453-af44-6cfa6fcc1de2 button.colab-df-convert');\n",
              "      buttonEl.style.display =\n",
              "        google.colab.kernel.accessAllowed ? 'block' : 'none';\n",
              "\n",
              "      async function convertToInteractive(key) {\n",
              "        const element = document.querySelector('#df-e021f9ee-7629-4453-af44-6cfa6fcc1de2');\n",
              "        const dataTable =\n",
              "          await google.colab.kernel.invokeFunction('convertToInteractive',\n",
              "                                                    [key], {});\n",
              "        if (!dataTable) return;\n",
              "\n",
              "        const docLinkHtml = 'Like what you see? Visit the ' +\n",
              "          '<a target=\"_blank\" href=https://colab.research.google.com/notebooks/data_table.ipynb>data table notebook</a>'\n",
              "          + ' to learn more about interactive tables.';\n",
              "        element.innerHTML = '';\n",
              "        dataTable['output_type'] = 'display_data';\n",
              "        await google.colab.output.renderOutput(dataTable, element);\n",
              "        const docLink = document.createElement('div');\n",
              "        docLink.innerHTML = docLinkHtml;\n",
              "        element.appendChild(docLink);\n",
              "      }\n",
              "    </script>\n",
              "  </div>\n",
              "\n",
              "\n",
              "<div id=\"df-2e333f35-08c5-4d03-b03e-e9c44959321c\">\n",
              "  <button class=\"colab-df-quickchart\" onclick=\"quickchart('df-2e333f35-08c5-4d03-b03e-e9c44959321c')\"\n",
              "            title=\"Suggest charts\"\n",
              "            style=\"display:none;\">\n",
              "\n",
              "<svg xmlns=\"http://www.w3.org/2000/svg\" height=\"24px\"viewBox=\"0 0 24 24\"\n",
              "     width=\"24px\">\n",
              "    <g>\n",
              "        <path d=\"M19 3H5c-1.1 0-2 .9-2 2v14c0 1.1.9 2 2 2h14c1.1 0 2-.9 2-2V5c0-1.1-.9-2-2-2zM9 17H7v-7h2v7zm4 0h-2V7h2v10zm4 0h-2v-4h2v4z\"/>\n",
              "    </g>\n",
              "</svg>\n",
              "  </button>\n",
              "\n",
              "<style>\n",
              "  .colab-df-quickchart {\n",
              "      --bg-color: #E8F0FE;\n",
              "      --fill-color: #1967D2;\n",
              "      --hover-bg-color: #E2EBFA;\n",
              "      --hover-fill-color: #174EA6;\n",
              "      --disabled-fill-color: #AAA;\n",
              "      --disabled-bg-color: #DDD;\n",
              "  }\n",
              "\n",
              "  [theme=dark] .colab-df-quickchart {\n",
              "      --bg-color: #3B4455;\n",
              "      --fill-color: #D2E3FC;\n",
              "      --hover-bg-color: #434B5C;\n",
              "      --hover-fill-color: #FFFFFF;\n",
              "      --disabled-bg-color: #3B4455;\n",
              "      --disabled-fill-color: #666;\n",
              "  }\n",
              "\n",
              "  .colab-df-quickchart {\n",
              "    background-color: var(--bg-color);\n",
              "    border: none;\n",
              "    border-radius: 50%;\n",
              "    cursor: pointer;\n",
              "    display: none;\n",
              "    fill: var(--fill-color);\n",
              "    height: 32px;\n",
              "    padding: 0;\n",
              "    width: 32px;\n",
              "  }\n",
              "\n",
              "  .colab-df-quickchart:hover {\n",
              "    background-color: var(--hover-bg-color);\n",
              "    box-shadow: 0 1px 2px rgba(60, 64, 67, 0.3), 0 1px 3px 1px rgba(60, 64, 67, 0.15);\n",
              "    fill: var(--button-hover-fill-color);\n",
              "  }\n",
              "\n",
              "  .colab-df-quickchart-complete:disabled,\n",
              "  .colab-df-quickchart-complete:disabled:hover {\n",
              "    background-color: var(--disabled-bg-color);\n",
              "    fill: var(--disabled-fill-color);\n",
              "    box-shadow: none;\n",
              "  }\n",
              "\n",
              "  .colab-df-spinner {\n",
              "    border: 2px solid var(--fill-color);\n",
              "    border-color: transparent;\n",
              "    border-bottom-color: var(--fill-color);\n",
              "    animation:\n",
              "      spin 1s steps(1) infinite;\n",
              "  }\n",
              "\n",
              "  @keyframes spin {\n",
              "    0% {\n",
              "      border-color: transparent;\n",
              "      border-bottom-color: var(--fill-color);\n",
              "      border-left-color: var(--fill-color);\n",
              "    }\n",
              "    20% {\n",
              "      border-color: transparent;\n",
              "      border-left-color: var(--fill-color);\n",
              "      border-top-color: var(--fill-color);\n",
              "    }\n",
              "    30% {\n",
              "      border-color: transparent;\n",
              "      border-left-color: var(--fill-color);\n",
              "      border-top-color: var(--fill-color);\n",
              "      border-right-color: var(--fill-color);\n",
              "    }\n",
              "    40% {\n",
              "      border-color: transparent;\n",
              "      border-right-color: var(--fill-color);\n",
              "      border-top-color: var(--fill-color);\n",
              "    }\n",
              "    60% {\n",
              "      border-color: transparent;\n",
              "      border-right-color: var(--fill-color);\n",
              "    }\n",
              "    80% {\n",
              "      border-color: transparent;\n",
              "      border-right-color: var(--fill-color);\n",
              "      border-bottom-color: var(--fill-color);\n",
              "    }\n",
              "    90% {\n",
              "      border-color: transparent;\n",
              "      border-bottom-color: var(--fill-color);\n",
              "    }\n",
              "  }\n",
              "</style>\n",
              "\n",
              "  <script>\n",
              "    async function quickchart(key) {\n",
              "      const quickchartButtonEl =\n",
              "        document.querySelector('#' + key + ' button');\n",
              "      quickchartButtonEl.disabled = true;  // To prevent multiple clicks.\n",
              "      quickchartButtonEl.classList.add('colab-df-spinner');\n",
              "      try {\n",
              "        const charts = await google.colab.kernel.invokeFunction(\n",
              "            'suggestCharts', [key], {});\n",
              "      } catch (error) {\n",
              "        console.error('Error during call to suggestCharts:', error);\n",
              "      }\n",
              "      quickchartButtonEl.classList.remove('colab-df-spinner');\n",
              "      quickchartButtonEl.classList.add('colab-df-quickchart-complete');\n",
              "    }\n",
              "    (() => {\n",
              "      let quickchartButtonEl =\n",
              "        document.querySelector('#df-2e333f35-08c5-4d03-b03e-e9c44959321c button');\n",
              "      quickchartButtonEl.style.display =\n",
              "        google.colab.kernel.accessAllowed ? 'block' : 'none';\n",
              "    })();\n",
              "  </script>\n",
              "</div>\n",
              "\n",
              "    </div>\n",
              "  </div>\n"
            ],
            "application/vnd.google.colaboratory.intrinsic+json": {
              "type": "dataframe",
              "variable_name": "df",
              "summary": "{\n  \"name\": \"df\",\n  \"rows\": 10,\n  \"fields\": [\n    {\n      \"column\": \"Date\",\n      \"properties\": {\n        \"dtype\": \"object\",\n        \"num_unique_values\": 10,\n        \"samples\": [\n          \"Nov 17, 2024\",\n          \"Nov 18, 2024\",\n          \"Dec 5, 2024\"\n        ],\n        \"semantic_type\": \"\",\n        \"description\": \"\"\n      }\n    },\n    {\n      \"column\": \"Review\",\n      \"properties\": {\n        \"dtype\": \"string\",\n        \"num_unique_values\": 10,\n        \"samples\": [\n          \"Food- It will always be a 10/10 eating at din tai fung. Everything is made fresh, and served hot. I have no complaints with the food here whatsoever. It's worth the money! Service- Our server, Cat was so kind and polite. She was very attentive serving us with food, and plenty of table check-ins. Always refilled our waters. Every chain restaurant I've visited, employee are professional and well-mannered.Ambiance- Plenty of seating arrangements inside. You may want to book a reservation beforehand to be seated right away. It gets busy for a reason.\",\n          \"The service is amazing and the food is so good, definitely worth the visit at least once while in San Diego!\",\n          \"I've heard about it, read about and never got around to visit...until now. They don't have DTF from where I'm from but I do pass by it often when I go to Del Amo Mall in Torrance. I always wondered what all the hype was about but never had the courage to go. A recent trip to visit family in the SD area prompted me to visit finally.Service:Arrived when they opened for the day. Had no reservation so we ended up waiting for like 15-20 minutes outside the restaurant, another 10 in the inside waiting area. Overall, staff that checked us in and served us were recepetive and came back to check on us. Our waters were always filled to the brim. 5 of 5 starsFood:So this place is great if you are a dimsum lover/addict =) I remember what we ordered because I still have the receipt: (2) Shrimp/Pork dumplings, (2) Shrimp/Kurobota Pork Spicy dumplings, Kurobuta Pork Xiao Long Bao, Noodles with Sesame Sauce, (2) Cucumber Salad, Sauteed String Beans, hot tea and a round of water for the table. All I can say is WOW! I've been missing out for a long time. I'm glad I went this time. 5 of 5 starsOverall:Tons of seating but this place is so popular so expect to wait on a busy day. I would advise to go on a weekday and not during the lunch or dinner rush. I will definitely be back when in the area.\"\n        ],\n        \"semantic_type\": \"\",\n        \"description\": \"\"\n      }\n    },\n    {\n      \"column\": \"Rating\",\n      \"properties\": {\n        \"dtype\": \"category\",\n        \"num_unique_values\": 1,\n        \"samples\": [\n          \"5 star rating\"\n        ],\n        \"semantic_type\": \"\",\n        \"description\": \"\"\n      }\n    }\n  ]\n}"
            }
          },
          "metadata": {},
          "execution_count": 13
        }
      ]
    },
    {
      "cell_type": "code",
      "source": [
        "df.shape[0]"
      ],
      "metadata": {
        "colab": {
          "base_uri": "https://localhost:8080/"
        },
        "id": "HGvZW04Um3ap",
        "outputId": "a86d238a-4d9f-4c91-f52e-4c36a0d4ca74"
      },
      "execution_count": null,
      "outputs": [
        {
          "output_type": "execute_result",
          "data": {
            "text/plain": [
              "10"
            ]
          },
          "metadata": {},
          "execution_count": 14
        }
      ]
    },
    {
      "cell_type": "markdown",
      "source": [
        "#### Scraping 200 reviews"
      ],
      "metadata": {
        "id": "ZJt-zMzVSHli"
      }
    },
    {
      "cell_type": "code",
      "source": [
        "cnt = 2\n",
        "lst_url = []\n",
        "rnd = 0\n",
        "for link in url[1:]:\n",
        "  print(f\"Scraping page {cnt}\")\n",
        "  cnt += 1\n",
        "  df_temp = scrape_reviews(link)\n",
        "  if df_temp.shape[0] == 0 :\n",
        "    print( \"EMPTY\")\n",
        "    time.sleep(5)\n",
        "    df_temp = scrape_reviews(link)\n",
        "    print(df_temp.shape[0])\n",
        "    if df_temp.shape[0] == 0 :\n",
        "      lst_url.append(link)\n",
        "  rnd = rnd + df_temp.shape[0]\n",
        "  if rnd > 200:\n",
        "    break\n",
        "  df = pd.concat([df, df_temp], ignore_index=True)\n"
      ],
      "metadata": {
        "id": "0s879MSyXEtf",
        "colab": {
          "base_uri": "https://localhost:8080/"
        },
        "outputId": "5a7b4bdd-06e3-4ed3-8fec-ceaaff4eb80a",
        "collapsed": true
      },
      "execution_count": null,
      "outputs": [
        {
          "output_type": "stream",
          "name": "stdout",
          "text": [
            "Scraping page 2\n",
            "https://www.yelp.com/biz/din-tai-fung-san-diego-3?osq=Din+Tai+Fung&start=10\n",
            "Scraping page 3\n",
            "https://www.yelp.com/biz/din-tai-fung-san-diego-3?osq=Din+Tai+Fung&start=20\n",
            "Scraping page 4\n",
            "https://www.yelp.com/biz/din-tai-fung-san-diego-3?osq=Din+Tai+Fung&start=30\n",
            "Scraping page 5\n",
            "https://www.yelp.com/biz/din-tai-fung-san-diego-3?osq=Din+Tai+Fung&start=40\n",
            "Scraping page 6\n",
            "https://www.yelp.com/biz/din-tai-fung-san-diego-3?osq=Din+Tai+Fung&start=50\n",
            "Scraping page 7\n",
            "https://www.yelp.com/biz/din-tai-fung-san-diego-3?osq=Din+Tai+Fung&start=60\n",
            "Scraping page 8\n",
            "https://www.yelp.com/biz/din-tai-fung-san-diego-3?osq=Din+Tai+Fung&start=70\n",
            "EMPTY\n",
            "https://www.yelp.com/biz/din-tai-fung-san-diego-3?osq=Din+Tai+Fung&start=70\n",
            "10\n",
            "Scraping page 9\n",
            "https://www.yelp.com/biz/din-tai-fung-san-diego-3?osq=Din+Tai+Fung&start=80\n",
            "Scraping page 10\n",
            "https://www.yelp.com/biz/din-tai-fung-san-diego-3?osq=Din+Tai+Fung&start=90\n",
            "EMPTY\n",
            "https://www.yelp.com/biz/din-tai-fung-san-diego-3?osq=Din+Tai+Fung&start=90\n",
            "11\n",
            "Scraping page 11\n",
            "https://www.yelp.com/biz/din-tai-fung-san-diego-3?osq=Din+Tai+Fung&start=100\n",
            "Scraping page 12\n",
            "https://www.yelp.com/biz/din-tai-fung-san-diego-3?osq=Din+Tai+Fung&start=110\n",
            "EMPTY\n",
            "https://www.yelp.com/biz/din-tai-fung-san-diego-3?osq=Din+Tai+Fung&start=110\n",
            "11\n",
            "Scraping page 13\n",
            "https://www.yelp.com/biz/din-tai-fung-san-diego-3?osq=Din+Tai+Fung&start=120\n",
            "EMPTY\n",
            "https://www.yelp.com/biz/din-tai-fung-san-diego-3?osq=Din+Tai+Fung&start=120\n",
            "11\n",
            "Scraping page 14\n",
            "https://www.yelp.com/biz/din-tai-fung-san-diego-3?osq=Din+Tai+Fung&start=130\n",
            "EMPTY\n",
            "https://www.yelp.com/biz/din-tai-fung-san-diego-3?osq=Din+Tai+Fung&start=130\n",
            "11\n",
            "Scraping page 15\n",
            "https://www.yelp.com/biz/din-tai-fung-san-diego-3?osq=Din+Tai+Fung&start=140\n",
            "Scraping page 16\n",
            "https://www.yelp.com/biz/din-tai-fung-san-diego-3?osq=Din+Tai+Fung&start=150\n",
            "Scraping page 17\n",
            "https://www.yelp.com/biz/din-tai-fung-san-diego-3?osq=Din+Tai+Fung&start=160\n",
            "EMPTY\n",
            "https://www.yelp.com/biz/din-tai-fung-san-diego-3?osq=Din+Tai+Fung&start=160\n",
            "10\n",
            "Scraping page 18\n",
            "https://www.yelp.com/biz/din-tai-fung-san-diego-3?osq=Din+Tai+Fung&start=170\n",
            "Scraping page 19\n",
            "https://www.yelp.com/biz/din-tai-fung-san-diego-3?osq=Din+Tai+Fung&start=180\n",
            "Scraping page 20\n",
            "https://www.yelp.com/biz/din-tai-fung-san-diego-3?osq=Din+Tai+Fung&start=190\n"
          ]
        }
      ]
    },
    {
      "cell_type": "markdown",
      "source": [
        "#### Scrapping pages 200-300"
      ],
      "metadata": {
        "id": "kai30GEpVzku"
      }
    },
    {
      "cell_type": "code",
      "source": [
        "df.drop_duplicates(inplace=True)\n",
        "df.shape"
      ],
      "metadata": {
        "colab": {
          "base_uri": "https://localhost:8080/"
        },
        "id": "bHOI0qaTp3vb",
        "outputId": "9e78ea89-adf8-4ec0-fa6c-aef2f863d2f9"
      },
      "execution_count": null,
      "outputs": [
        {
          "output_type": "execute_result",
          "data": {
            "text/plain": [
              "(207, 3)"
            ]
          },
          "metadata": {},
          "execution_count": 17
        }
      ]
    },
    {
      "cell_type": "code",
      "source": [
        "from google.colab import drive\n",
        "drive.mount('/content/drive/')"
      ],
      "metadata": {
        "colab": {
          "base_uri": "https://localhost:8080/"
        },
        "id": "fjoLP7CcHNEr",
        "outputId": "16662b0e-ab32-403e-d5a2-e53f3979681a"
      },
      "execution_count": null,
      "outputs": [
        {
          "output_type": "stream",
          "name": "stdout",
          "text": [
            "Mounted at /content/drive/\n"
          ]
        }
      ]
    },
    {
      "cell_type": "code",
      "source": [
        "import sys\n",
        "\n",
        "# Add your absolute path of your project folder to system path.\n",
        "sys.path.append(\"/content/drive/My Drive/CS 561\")\n",
        "\n",
        "# See the full list of paths in sys.path\n",
        "print(sys.path)"
      ],
      "metadata": {
        "colab": {
          "base_uri": "https://localhost:8080/"
        },
        "id": "iL0Yqa8yHRDb",
        "outputId": "39a450f3-5622-421b-adce-2427f7d37da4"
      },
      "execution_count": null,
      "outputs": [
        {
          "output_type": "stream",
          "name": "stdout",
          "text": [
            "['/content', '/env/python', '/usr/lib/python310.zip', '/usr/lib/python3.10', '/usr/lib/python3.10/lib-dynload', '', '/usr/local/lib/python3.10/dist-packages', '/usr/lib/python3/dist-packages', '/usr/local/lib/python3.10/dist-packages/IPython/extensions', '/usr/local/lib/python3.10/dist-packages/setuptools/_vendor', '/root/.ipython', '/content/drive/My Drive/CS 561']\n"
          ]
        }
      ]
    },
    {
      "cell_type": "code",
      "source": [
        "%cd \"/content/drive/My Drive/CS 561\""
      ],
      "metadata": {
        "colab": {
          "base_uri": "https://localhost:8080/"
        },
        "id": "6OeB0yTVHUlq",
        "outputId": "9c5cf604-015d-4b74-ceb4-ef0cf6960970"
      },
      "execution_count": null,
      "outputs": [
        {
          "output_type": "stream",
          "name": "stdout",
          "text": [
            "/content/drive/My Drive/CS 561\n"
          ]
        }
      ]
    },
    {
      "cell_type": "code",
      "source": [
        "import openpyxl\n",
        "\n",
        "def replace_invalid_chars(text):\n",
        "    \"\"\"Replaces invalid characters for Excel with empty strings.\"\"\"\n",
        "    # Control characters (0x00-0x1F) except tab (0x09), newline (0x0A), and carriage return (0x0D)\n",
        "    # Also replace the null character (0x00)\n",
        "    invalid_chars = list(range(0, 32)) # Add null char to the list of invalid_chars\n",
        "    invalid_chars.remove(9)  # Tab\n",
        "    invalid_chars.remove(10)  # Newline\n",
        "    invalid_chars.remove(13)  # Carriage return\n",
        "\n",
        "    for char_code in invalid_chars:\n",
        "        text = text.replace(chr(char_code), \"\")\n",
        "\n",
        "    return text\n",
        "\n",
        "# Apply the function to all string columns in the DataFrame\n",
        "for col in df.select_dtypes(include=['object']).columns:\n",
        "    df[col] = df[col].apply(replace_invalid_chars)\n",
        "\n",
        "# Now try exporting to Excel\n",
        "df.to_excel('reviews_test.xlsx', index=False, engine='openpyxl')"
      ],
      "metadata": {
        "id": "E2gdFaPvPyZ0"
      },
      "execution_count": null,
      "outputs": []
    },
    {
      "cell_type": "code",
      "source": [],
      "metadata": {
        "id": "IbyDAJENQLZ9"
      },
      "execution_count": null,
      "outputs": []
    }
  ]
}